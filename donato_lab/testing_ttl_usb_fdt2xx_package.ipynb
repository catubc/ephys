{
 "cells": [
  {
   "cell_type": "code",
   "execution_count": 1,
   "id": "93f3a449-2076-4b7d-ae5e-76fc81ad8437",
   "metadata": {},
   "outputs": [
    {
     "data": {
      "application/javascript": [
       "IPython.notebook.set_autosave_interval(180000)"
      ]
     },
     "metadata": {},
     "output_type": "display_data"
    },
    {
     "name": "stdout",
     "output_type": "stream",
     "text": [
      "Autosaving every 180 seconds\n"
     ]
    }
   ],
   "source": [
    "import matplotlib\n",
    "#%matplotlib qt\n",
    "\n",
    "import matplotlib.pyplot as plt\n",
    "# to run GUI event loop\n",
    "#%matplotlib tk\n",
    "%autosave 180\n",
    "#%load_ext autoreload\n",
    "#%autoreload 2\n",
    "import numpy as np\n",
    "\n",
    "import sys, ftd2xx as ftd\n"
   ]
  },
  {
   "cell_type": "code",
   "execution_count": 2,
   "id": "bb330062-e241-4543-ad7c-cfc397487846",
   "metadata": {},
   "outputs": [],
   "source": [
    "\n",
    "def find_first_device():\n",
    "    for k in range(50):\n",
    "        try:\n",
    "            d = ftd.open(k)    # Open first FTDI device\n",
    "            print(\"found device: \", k, d.getDeviceInfo())\n",
    "            d.close()\n",
    "            return k\n",
    "        except:\n",
    "            pass\n",
    "    print (\"no devices found...\")\n",
    "    return None\n",
    "\n",
    "def send_timed_pulse(ON_time):\n",
    "    OP = 0x01            # Bit mask for output D0\n",
    "    d.setBitMode(OP, 1)  # Set pin as output, and async bitbang mode\n",
    "    d.write(str(OP))     # Set output high\n",
    "\n",
    "\n",
    "    d.write(str(0))\n",
    "    time.sleep(ON_time)\n",
    "    d.write(str(1))\n",
    "    "
   ]
  },
  {
   "cell_type": "code",
   "execution_count": 3,
   "id": "f300619b-8cee-4c34-b408-1e73730d338f",
   "metadata": {},
   "outputs": [
    {
     "name": "stdout",
     "output_type": "stream",
     "text": [
      "found device:  0 {'type': 5, 'id': 67330049, 'description': b'FT232R USB UART', 'serial': b'00000000'}\n"
     ]
    }
   ],
   "source": [
    "\n",
    "dev_id = find_first_device()\n",
    "\n",
    "try:\n",
    "    d.close()\n",
    "except:\n",
    "    pass\n",
    "\n",
    "if dev_id is not None:\n",
    "    d = ftd.open(dev_id)\n"
   ]
  },
  {
   "cell_type": "code",
   "execution_count": 4,
   "id": "23755158-72f0-478d-a5a2-371111126d6d",
   "metadata": {},
   "outputs": [
    {
     "name": "stdout",
     "output_type": "stream",
     "text": [
      " sending pulse:  0\n",
      " sending pulse:  1\n"
     ]
    },
    {
     "ename": "KeyboardInterrupt",
     "evalue": "",
     "output_type": "error",
     "traceback": [
      "\u001b[1;31m---------------------------------------------------------------------------\u001b[0m",
      "\u001b[1;31mKeyboardInterrupt\u001b[0m                         Traceback (most recent call last)",
      "\u001b[1;32mC:\\Users\\RG-FD0~1\\AppData\\Local\\Temp/ipykernel_10376/3219839172.py\u001b[0m in \u001b[0;36m<module>\u001b[1;34m\u001b[0m\n\u001b[0;32m      4\u001b[0m \u001b[0mON_time\u001b[0m \u001b[1;33m=\u001b[0m \u001b[1;36m1\u001b[0m\u001b[1;33m\u001b[0m\u001b[1;33m\u001b[0m\u001b[0m\n\u001b[0;32m      5\u001b[0m \u001b[1;32mfor\u001b[0m \u001b[0mk\u001b[0m \u001b[1;32min\u001b[0m \u001b[0mrange\u001b[0m\u001b[1;33m(\u001b[0m\u001b[1;36m10\u001b[0m\u001b[1;33m)\u001b[0m\u001b[1;33m:\u001b[0m\u001b[1;33m\u001b[0m\u001b[1;33m\u001b[0m\u001b[0m\n\u001b[1;32m----> 6\u001b[1;33m     \u001b[0msend_timed_pulse\u001b[0m\u001b[1;33m(\u001b[0m\u001b[0mON_time\u001b[0m\u001b[1;33m)\u001b[0m\u001b[1;33m\u001b[0m\u001b[1;33m\u001b[0m\u001b[0m\n\u001b[0m\u001b[0;32m      7\u001b[0m     \u001b[0mprint\u001b[0m \u001b[1;33m(\u001b[0m\u001b[1;34m\" sending pulse: \"\u001b[0m\u001b[1;33m,\u001b[0m \u001b[0mk\u001b[0m\u001b[1;33m)\u001b[0m\u001b[1;33m\u001b[0m\u001b[1;33m\u001b[0m\u001b[0m\n",
      "\u001b[1;32mC:\\Users\\RG-FD0~1\\AppData\\Local\\Temp/ipykernel_10376/579148655.py\u001b[0m in \u001b[0;36msend_timed_pulse\u001b[1;34m(ON_time)\u001b[0m\n\u001b[0;32m     18\u001b[0m \u001b[1;33m\u001b[0m\u001b[0m\n\u001b[0;32m     19\u001b[0m     \u001b[0md\u001b[0m\u001b[1;33m.\u001b[0m\u001b[0mwrite\u001b[0m\u001b[1;33m(\u001b[0m\u001b[0mstr\u001b[0m\u001b[1;33m(\u001b[0m\u001b[1;36m0\u001b[0m\u001b[1;33m)\u001b[0m\u001b[1;33m)\u001b[0m\u001b[1;33m\u001b[0m\u001b[1;33m\u001b[0m\u001b[0m\n\u001b[1;32m---> 20\u001b[1;33m     \u001b[0mtime\u001b[0m\u001b[1;33m.\u001b[0m\u001b[0msleep\u001b[0m\u001b[1;33m(\u001b[0m\u001b[0mON_time\u001b[0m\u001b[1;33m)\u001b[0m\u001b[1;33m\u001b[0m\u001b[1;33m\u001b[0m\u001b[0m\n\u001b[0m\u001b[0;32m     21\u001b[0m     \u001b[0md\u001b[0m\u001b[1;33m.\u001b[0m\u001b[0mwrite\u001b[0m\u001b[1;33m(\u001b[0m\u001b[0mstr\u001b[0m\u001b[1;33m(\u001b[0m\u001b[1;36m1\u001b[0m\u001b[1;33m)\u001b[0m\u001b[1;33m)\u001b[0m\u001b[1;33m\u001b[0m\u001b[1;33m\u001b[0m\u001b[0m\n\u001b[0;32m     22\u001b[0m \u001b[1;33m\u001b[0m\u001b[0m\n",
      "\u001b[1;31mKeyboardInterrupt\u001b[0m: "
     ]
    }
   ],
   "source": [
    "import time\n",
    "\n",
    "#\n",
    "ON_time = 1\n",
    "for k in range(10):\n",
    "    send_timed_pulse(ON_time)\n",
    "    print (\" sending pulse: \", k)\n"
   ]
  },
  {
   "cell_type": "code",
   "execution_count": null,
   "id": "0a3bc620-3a18-4039-9954-38ec4af00c26",
   "metadata": {},
   "outputs": [],
   "source": []
  },
  {
   "cell_type": "code",
   "execution_count": null,
   "id": "c967a988-7863-45a9-9193-6da608415519",
   "metadata": {},
   "outputs": [],
   "source": []
  },
  {
   "cell_type": "code",
   "execution_count": 24,
   "id": "43d3156b-3cc6-4b64-bfa9-291ab514e0e6",
   "metadata": {},
   "outputs": [
    {
     "name": "stdout",
     "output_type": "stream",
     "text": [
      "C:\\Users\\rg-fd02-user\\Documents\\Open Ephys\\2022-11-01_11-50-13\\Record Node 101\\experiment1\\recording1\\events\\Acquisition_Board-100.Rhythm Data\\TTL\\ \n",
      "[]\n",
      "[4.71893333]\n"
     ]
    }
   ],
   "source": [
    "root_dir = r\"C:\\Users\\rg-fd02-user\\Documents\\Open Ephys\\2022-11-01_11-50-13\\Record Node 101\\experiment1\\recording1\\events\\Acquisition_Board-100.Rhythm Data\\TTL\\ \"\n",
    "print (root_dir)\n",
    "\n",
    "d1 = np.load(root_dir[:-1]+\"timestamps.npy\")\n",
    "print (d1)\n",
    "\n",
    "root_dir2 = r\"C:\\Users\\rg-fd02-user\\Documents\\Open Ephys\\2022-11-01_11-50-13\\Record Node 101\\experiment2\\recording1\\events\\MessageCenter\\ \"\n",
    "d2 = np.load(root_dir2[:-1]+\"timestamps.npy\")\n",
    "print (d2)\n"
   ]
  },
  {
   "cell_type": "code",
   "execution_count": null,
   "id": "2ac75c65-eb2e-494c-86d5-b28b6908f824",
   "metadata": {},
   "outputs": [],
   "source": []
  },
  {
   "cell_type": "code",
   "execution_count": null,
   "id": "e0a83001-7670-416f-9aac-832f85020026",
   "metadata": {},
   "outputs": [],
   "source": []
  },
  {
   "cell_type": "code",
   "execution_count": null,
   "id": "65c2d3b5-b1b1-471f-b59c-76e3d91ce610",
   "metadata": {},
   "outputs": [],
   "source": []
  },
  {
   "cell_type": "code",
   "execution_count": 5,
   "id": "ee8c9a4b-eb06-4063-aab7-2510eba568f2",
   "metadata": {
    "tags": []
   },
   "outputs": [
    {
     "name": "stdout",
     "output_type": "stream",
     "text": [
      "  CONFIGURATION 1: 100 mA ==================================\n",
      "   bLength              :    0x9 (9 bytes)\n",
      "   bDescriptorType      :    0x2 Configuration\n",
      "   wTotalLength         :   0xc8 (200 bytes)\n",
      "   bNumInterfaces       :    0x2\n",
      "   bConfigurationValue  :    0x1\n",
      "   iConfiguration       :    0x0 \n",
      "   bmAttributes         :   0xe0 Self Powered, Remote Wakeup\n",
      "   bMaxPower            :   0x32 (100 mA)\n",
      "    INTERFACE 0: Wireless Controller =======================\n",
      "     bLength            :    0x9 (9 bytes)\n",
      "     bDescriptorType    :    0x4 Interface\n",
      "     bInterfaceNumber   :    0x0\n",
      "     bAlternateSetting  :    0x0\n",
      "     bNumEndpoints      :    0x3\n",
      "     bInterfaceClass    :   0xe0 Wireless Controller\n",
      "     bInterfaceSubClass :    0x1\n",
      "     bInterfaceProtocol :    0x1\n",
      "     iInterface         :    0x0 \n",
      "      ENDPOINT 0x81: Interrupt IN ==========================\n",
      "       bLength          :    0x7 (7 bytes)\n",
      "       bDescriptorType  :    0x5 Endpoint\n",
      "       bEndpointAddress :   0x81 IN\n",
      "       bmAttributes     :    0x3 Interrupt\n",
      "       wMaxPacketSize   :   0x40 (64 bytes)\n",
      "       bInterval        :    0x1\n",
      "      ENDPOINT 0x2: Bulk OUT ===============================\n",
      "       bLength          :    0x7 (7 bytes)\n",
      "       bDescriptorType  :    0x5 Endpoint\n",
      "       bEndpointAddress :    0x2 OUT\n",
      "       bmAttributes     :    0x2 Bulk\n",
      "       wMaxPacketSize   :   0x40 (64 bytes)\n",
      "       bInterval        :    0x1\n",
      "      ENDPOINT 0x82: Bulk IN ===============================\n",
      "       bLength          :    0x7 (7 bytes)\n",
      "       bDescriptorType  :    0x5 Endpoint\n",
      "       bEndpointAddress :   0x82 IN\n",
      "       bmAttributes     :    0x2 Bulk\n",
      "       wMaxPacketSize   :   0x40 (64 bytes)\n",
      "       bInterval        :    0x1\n",
      "    INTERFACE 1: Wireless Controller =======================\n",
      "     bLength            :    0x9 (9 bytes)\n",
      "     bDescriptorType    :    0x4 Interface\n",
      "     bInterfaceNumber   :    0x1\n",
      "     bAlternateSetting  :    0x0\n",
      "     bNumEndpoints      :    0x2\n",
      "     bInterfaceClass    :   0xe0 Wireless Controller\n",
      "     bInterfaceSubClass :    0x1\n",
      "     bInterfaceProtocol :    0x1\n",
      "     iInterface         :    0x0 \n",
      "      ENDPOINT 0x3: Isochronous OUT ========================\n",
      "       bLength          :    0x7 (7 bytes)\n",
      "       bDescriptorType  :    0x5 Endpoint\n",
      "       bEndpointAddress :    0x3 OUT\n",
      "       bmAttributes     :    0x1 Isochronous\n",
      "       wMaxPacketSize   :    0x0 (0 bytes)\n",
      "       bInterval        :    0x1\n",
      "      ENDPOINT 0x83: Isochronous IN ========================\n",
      "       bLength          :    0x7 (7 bytes)\n",
      "       bDescriptorType  :    0x5 Endpoint\n",
      "       bEndpointAddress :   0x83 IN\n",
      "       bmAttributes     :    0x1 Isochronous\n",
      "       wMaxPacketSize   :    0x0 (0 bytes)\n",
      "       bInterval        :    0x1\n",
      "    INTERFACE 1, 1: Wireless Controller ====================\n",
      "     bLength            :    0x9 (9 bytes)\n",
      "     bDescriptorType    :    0x4 Interface\n",
      "     bInterfaceNumber   :    0x1\n",
      "     bAlternateSetting  :    0x1\n",
      "     bNumEndpoints      :    0x2\n",
      "     bInterfaceClass    :   0xe0 Wireless Controller\n",
      "     bInterfaceSubClass :    0x1\n",
      "     bInterfaceProtocol :    0x1\n",
      "     iInterface         :    0x0 \n",
      "      ENDPOINT 0x3: Isochronous OUT ========================\n",
      "       bLength          :    0x7 (7 bytes)\n",
      "       bDescriptorType  :    0x5 Endpoint\n",
      "       bEndpointAddress :    0x3 OUT\n",
      "       bmAttributes     :    0x1 Isochronous\n",
      "       wMaxPacketSize   :    0x9 (9 bytes)\n",
      "       bInterval        :    0x1\n",
      "      ENDPOINT 0x83: Isochronous IN ========================\n",
      "       bLength          :    0x7 (7 bytes)\n",
      "       bDescriptorType  :    0x5 Endpoint\n",
      "       bEndpointAddress :   0x83 IN\n",
      "       bmAttributes     :    0x1 Isochronous\n",
      "       wMaxPacketSize   :    0x9 (9 bytes)\n",
      "       bInterval        :    0x1\n",
      "    INTERFACE 1, 2: Wireless Controller ====================\n",
      "     bLength            :    0x9 (9 bytes)\n",
      "     bDescriptorType    :    0x4 Interface\n",
      "     bInterfaceNumber   :    0x1\n",
      "     bAlternateSetting  :    0x2\n",
      "     bNumEndpoints      :    0x2\n",
      "     bInterfaceClass    :   0xe0 Wireless Controller\n",
      "     bInterfaceSubClass :    0x1\n",
      "     bInterfaceProtocol :    0x1\n",
      "     iInterface         :    0x0 \n",
      "      ENDPOINT 0x3: Isochronous OUT ========================\n",
      "       bLength          :    0x7 (7 bytes)\n",
      "       bDescriptorType  :    0x5 Endpoint\n",
      "       bEndpointAddress :    0x3 OUT\n",
      "       bmAttributes     :    0x1 Isochronous\n",
      "       wMaxPacketSize   :   0x11 (17 bytes)\n",
      "       bInterval        :    0x1\n",
      "      ENDPOINT 0x83: Isochronous IN ========================\n",
      "       bLength          :    0x7 (7 bytes)\n",
      "       bDescriptorType  :    0x5 Endpoint\n",
      "       bEndpointAddress :   0x83 IN\n",
      "       bmAttributes     :    0x1 Isochronous\n",
      "       wMaxPacketSize   :   0x11 (17 bytes)\n",
      "       bInterval        :    0x1\n",
      "    INTERFACE 1, 3: Wireless Controller ====================\n",
      "     bLength            :    0x9 (9 bytes)\n",
      "     bDescriptorType    :    0x4 Interface\n",
      "     bInterfaceNumber   :    0x1\n",
      "     bAlternateSetting  :    0x3\n",
      "     bNumEndpoints      :    0x2\n",
      "     bInterfaceClass    :   0xe0 Wireless Controller\n",
      "     bInterfaceSubClass :    0x1\n",
      "     bInterfaceProtocol :    0x1\n",
      "     iInterface         :    0x0 \n",
      "      ENDPOINT 0x3: Isochronous OUT ========================\n",
      "       bLength          :    0x7 (7 bytes)\n",
      "       bDescriptorType  :    0x5 Endpoint\n",
      "       bEndpointAddress :    0x3 OUT\n",
      "       bmAttributes     :    0x1 Isochronous\n",
      "       wMaxPacketSize   :   0x19 (25 bytes)\n",
      "       bInterval        :    0x1\n",
      "      ENDPOINT 0x83: Isochronous IN ========================\n",
      "       bLength          :    0x7 (7 bytes)\n",
      "       bDescriptorType  :    0x5 Endpoint\n",
      "       bEndpointAddress :   0x83 IN\n",
      "       bmAttributes     :    0x1 Isochronous\n",
      "       wMaxPacketSize   :   0x19 (25 bytes)\n",
      "       bInterval        :    0x1\n",
      "    INTERFACE 1, 4: Wireless Controller ====================\n",
      "     bLength            :    0x9 (9 bytes)\n",
      "     bDescriptorType    :    0x4 Interface\n",
      "     bInterfaceNumber   :    0x1\n",
      "     bAlternateSetting  :    0x4\n",
      "     bNumEndpoints      :    0x2\n",
      "     bInterfaceClass    :   0xe0 Wireless Controller\n",
      "     bInterfaceSubClass :    0x1\n",
      "     bInterfaceProtocol :    0x1\n",
      "     iInterface         :    0x0 \n",
      "      ENDPOINT 0x3: Isochronous OUT ========================\n",
      "       bLength          :    0x7 (7 bytes)\n",
      "       bDescriptorType  :    0x5 Endpoint\n",
      "       bEndpointAddress :    0x3 OUT\n",
      "       bmAttributes     :    0x1 Isochronous\n",
      "       wMaxPacketSize   :   0x21 (33 bytes)\n",
      "       bInterval        :    0x1\n",
      "      ENDPOINT 0x83: Isochronous IN ========================\n",
      "       bLength          :    0x7 (7 bytes)\n",
      "       bDescriptorType  :    0x5 Endpoint\n",
      "       bEndpointAddress :   0x83 IN\n",
      "       bmAttributes     :    0x1 Isochronous\n",
      "       wMaxPacketSize   :   0x21 (33 bytes)\n",
      "       bInterval        :    0x1\n",
      "    INTERFACE 1, 5: Wireless Controller ====================\n",
      "     bLength            :    0x9 (9 bytes)\n",
      "     bDescriptorType    :    0x4 Interface\n",
      "     bInterfaceNumber   :    0x1\n",
      "     bAlternateSetting  :    0x5\n",
      "     bNumEndpoints      :    0x2\n",
      "     bInterfaceClass    :   0xe0 Wireless Controller\n",
      "     bInterfaceSubClass :    0x1\n",
      "     bInterfaceProtocol :    0x1\n",
      "     iInterface         :    0x0 \n",
      "      ENDPOINT 0x3: Isochronous OUT ========================\n",
      "       bLength          :    0x7 (7 bytes)\n",
      "       bDescriptorType  :    0x5 Endpoint\n",
      "       bEndpointAddress :    0x3 OUT\n",
      "       bmAttributes     :    0x1 Isochronous\n",
      "       wMaxPacketSize   :   0x31 (49 bytes)\n",
      "       bInterval        :    0x1\n",
      "      ENDPOINT 0x83: Isochronous IN ========================\n",
      "       bLength          :    0x7 (7 bytes)\n",
      "       bDescriptorType  :    0x5 Endpoint\n",
      "       bEndpointAddress :   0x83 IN\n",
      "       bmAttributes     :    0x1 Isochronous\n",
      "       wMaxPacketSize   :   0x31 (49 bytes)\n",
      "       bInterval        :    0x1\n",
      "    INTERFACE 1, 6: Wireless Controller ====================\n",
      "     bLength            :    0x9 (9 bytes)\n",
      "     bDescriptorType    :    0x4 Interface\n",
      "     bInterfaceNumber   :    0x1\n",
      "     bAlternateSetting  :    0x6\n",
      "     bNumEndpoints      :    0x2\n",
      "     bInterfaceClass    :   0xe0 Wireless Controller\n",
      "     bInterfaceSubClass :    0x1\n",
      "     bInterfaceProtocol :    0x1\n",
      "     iInterface         :    0x0 \n",
      "      ENDPOINT 0x3: Isochronous OUT ========================\n",
      "       bLength          :    0x7 (7 bytes)\n",
      "       bDescriptorType  :    0x5 Endpoint\n",
      "       bEndpointAddress :    0x3 OUT\n",
      "       bmAttributes     :    0x1 Isochronous\n",
      "       wMaxPacketSize   :   0x3f (63 bytes)\n",
      "       bInterval        :    0x1\n",
      "      ENDPOINT 0x83: Isochronous IN ========================\n",
      "       bLength          :    0x7 (7 bytes)\n",
      "       bDescriptorType  :    0x5 Endpoint\n",
      "       bEndpointAddress :   0x83 IN\n",
      "       bmAttributes     :    0x1 Isochronous\n",
      "       wMaxPacketSize   :   0x3f (63 bytes)\n",
      "       bInterval        :    0x1\n"
     ]
    }
   ],
   "source": [
    "import usb.core\n",
    "\n",
    "dev = usb.core.find()\n",
    "if dev is None:\n",
    "    raise ValueError('Our device is not connected')\n",
    "else:\n",
    "    for d in dev:\n",
    "        print (d)"
   ]
  },
  {
   "cell_type": "code",
   "execution_count": null,
   "id": "6fbcfd96-ab9a-4d51-b580-d86205c6dba6",
   "metadata": {},
   "outputs": [],
   "source": []
  },
  {
   "cell_type": "code",
   "execution_count": 7,
   "id": "9db775d7-1a46-4595-8fd0-d0ad085dea7b",
   "metadata": {},
   "outputs": [
    {
     "name": "stdout",
     "output_type": "stream",
     "text": [
      "None\n"
     ]
    }
   ],
   "source": [
    " \n",
    "import sys\n",
    "import glob\n",
    "import serial\n",
    "\n",
    "\n",
    "def serial_ports():\n",
    "    \"\"\" Lists serial port names\n",
    "\n",
    "        :raises EnvironmentError:\n",
    "            On unsupported or unknown platforms\n",
    "        :returns:\n",
    "            A list of the serial ports available on the system\n",
    "    \"\"\"\n",
    "    if sys.platform.startswith('win'):\n",
    "        ports = ['COM%s' % (i + 1) for i in range(256)]\n",
    "    elif sys.platform.startswith('linux') or sys.platform.startswith('cygwin'):\n",
    "        # this excludes your current terminal \"/dev/tty\"\n",
    "        ports = glob.glob('/dev/tty[A-Za-z]*')\n",
    "    elif sys.platform.startswith('darwin'):\n",
    "        ports = glob.glob('/dev/tty.*')\n",
    "    else:\n",
    "        raise EnvironmentError('Unsupported platform')\n",
    "\n",
    "    result = []\n",
    "  \n",
    "\n",
    "if __name__ == '__main__':\n",
    "    print(serial_ports())\n",
    "    \n",
    "    "
   ]
  },
  {
   "cell_type": "code",
   "execution_count": 8,
   "id": "e9952374-e5c2-40ec-91ea-8b6409c6abe4",
   "metadata": {},
   "outputs": [
    {
     "ename": "SerialException",
     "evalue": "could not open port '/dev/ttyUSB0': FileNotFoundError(2, 'The system cannot find the path specified.', None, 3)",
     "output_type": "error",
     "traceback": [
      "\u001b[1;31m---------------------------------------------------------------------------\u001b[0m",
      "\u001b[1;31mSerialException\u001b[0m                           Traceback (most recent call last)",
      "\u001b[1;32mC:\\Users\\RG-FD0~1\\AppData\\Local\\Temp/ipykernel_852/2445141831.py\u001b[0m in \u001b[0;36m<module>\u001b[1;34m\u001b[0m\n\u001b[1;32m----> 1\u001b[1;33m \u001b[0mser\u001b[0m \u001b[1;33m=\u001b[0m \u001b[0mserial\u001b[0m\u001b[1;33m.\u001b[0m\u001b[0mSerial\u001b[0m\u001b[1;33m(\u001b[0m\u001b[1;34m'/dev/ttyUSB0'\u001b[0m\u001b[1;33m)\u001b[0m  \u001b[1;31m# open serial port\u001b[0m\u001b[1;33m\u001b[0m\u001b[1;33m\u001b[0m\u001b[0m\n\u001b[0m\u001b[0;32m      2\u001b[0m \u001b[0mprint\u001b[0m\u001b[1;33m(\u001b[0m\u001b[0mser\u001b[0m\u001b[1;33m.\u001b[0m\u001b[0mname\u001b[0m\u001b[1;33m)\u001b[0m         \u001b[1;31m# check which port was really used\u001b[0m\u001b[1;33m\u001b[0m\u001b[1;33m\u001b[0m\u001b[0m\n\u001b[0;32m      3\u001b[0m \u001b[0mser\u001b[0m\u001b[1;33m.\u001b[0m\u001b[0mwrite\u001b[0m\u001b[1;33m(\u001b[0m\u001b[1;34mb'hello'\u001b[0m\u001b[1;33m)\u001b[0m     \u001b[1;31m# write a string\u001b[0m\u001b[1;33m\u001b[0m\u001b[1;33m\u001b[0m\u001b[0m\n\u001b[0;32m      4\u001b[0m \u001b[0mser\u001b[0m\u001b[1;33m.\u001b[0m\u001b[0mclose\u001b[0m\u001b[1;33m(\u001b[0m\u001b[1;33m)\u001b[0m\u001b[1;33m\u001b[0m\u001b[1;33m\u001b[0m\u001b[0m\n",
      "\u001b[1;32m~\\anaconda3\\lib\\site-packages\\serial\\serialwin32.py\u001b[0m in \u001b[0;36m__init__\u001b[1;34m(self, *args, **kwargs)\u001b[0m\n\u001b[0;32m     31\u001b[0m         \u001b[0mself\u001b[0m\u001b[1;33m.\u001b[0m\u001b[0m_overlapped_read\u001b[0m \u001b[1;33m=\u001b[0m \u001b[1;32mNone\u001b[0m\u001b[1;33m\u001b[0m\u001b[1;33m\u001b[0m\u001b[0m\n\u001b[0;32m     32\u001b[0m         \u001b[0mself\u001b[0m\u001b[1;33m.\u001b[0m\u001b[0m_overlapped_write\u001b[0m \u001b[1;33m=\u001b[0m \u001b[1;32mNone\u001b[0m\u001b[1;33m\u001b[0m\u001b[1;33m\u001b[0m\u001b[0m\n\u001b[1;32m---> 33\u001b[1;33m         \u001b[0msuper\u001b[0m\u001b[1;33m(\u001b[0m\u001b[0mSerial\u001b[0m\u001b[1;33m,\u001b[0m \u001b[0mself\u001b[0m\u001b[1;33m)\u001b[0m\u001b[1;33m.\u001b[0m\u001b[0m__init__\u001b[0m\u001b[1;33m(\u001b[0m\u001b[1;33m*\u001b[0m\u001b[0margs\u001b[0m\u001b[1;33m,\u001b[0m \u001b[1;33m**\u001b[0m\u001b[0mkwargs\u001b[0m\u001b[1;33m)\u001b[0m\u001b[1;33m\u001b[0m\u001b[1;33m\u001b[0m\u001b[0m\n\u001b[0m\u001b[0;32m     34\u001b[0m \u001b[1;33m\u001b[0m\u001b[0m\n\u001b[0;32m     35\u001b[0m     \u001b[1;32mdef\u001b[0m \u001b[0mopen\u001b[0m\u001b[1;33m(\u001b[0m\u001b[0mself\u001b[0m\u001b[1;33m)\u001b[0m\u001b[1;33m:\u001b[0m\u001b[1;33m\u001b[0m\u001b[1;33m\u001b[0m\u001b[0m\n",
      "\u001b[1;32m~\\anaconda3\\lib\\site-packages\\serial\\serialutil.py\u001b[0m in \u001b[0;36m__init__\u001b[1;34m(self, port, baudrate, bytesize, parity, stopbits, timeout, xonxoff, rtscts, write_timeout, dsrdtr, inter_byte_timeout, exclusive, **kwargs)\u001b[0m\n\u001b[0;32m    242\u001b[0m \u001b[1;33m\u001b[0m\u001b[0m\n\u001b[0;32m    243\u001b[0m         \u001b[1;32mif\u001b[0m \u001b[0mport\u001b[0m \u001b[1;32mis\u001b[0m \u001b[1;32mnot\u001b[0m \u001b[1;32mNone\u001b[0m\u001b[1;33m:\u001b[0m\u001b[1;33m\u001b[0m\u001b[1;33m\u001b[0m\u001b[0m\n\u001b[1;32m--> 244\u001b[1;33m             \u001b[0mself\u001b[0m\u001b[1;33m.\u001b[0m\u001b[0mopen\u001b[0m\u001b[1;33m(\u001b[0m\u001b[1;33m)\u001b[0m\u001b[1;33m\u001b[0m\u001b[1;33m\u001b[0m\u001b[0m\n\u001b[0m\u001b[0;32m    245\u001b[0m \u001b[1;33m\u001b[0m\u001b[0m\n\u001b[0;32m    246\u001b[0m     \u001b[1;31m#  -  -  -  -  -  -  -  -  -  -  -  -  -  -  -  -  -  -  -  -  -  -  -  -\u001b[0m\u001b[1;33m\u001b[0m\u001b[1;33m\u001b[0m\u001b[0m\n",
      "\u001b[1;32m~\\anaconda3\\lib\\site-packages\\serial\\serialwin32.py\u001b[0m in \u001b[0;36mopen\u001b[1;34m(self)\u001b[0m\n\u001b[0;32m     62\u001b[0m         \u001b[1;32mif\u001b[0m \u001b[0mself\u001b[0m\u001b[1;33m.\u001b[0m\u001b[0m_port_handle\u001b[0m \u001b[1;33m==\u001b[0m \u001b[0mwin32\u001b[0m\u001b[1;33m.\u001b[0m\u001b[0mINVALID_HANDLE_VALUE\u001b[0m\u001b[1;33m:\u001b[0m\u001b[1;33m\u001b[0m\u001b[1;33m\u001b[0m\u001b[0m\n\u001b[0;32m     63\u001b[0m             \u001b[0mself\u001b[0m\u001b[1;33m.\u001b[0m\u001b[0m_port_handle\u001b[0m \u001b[1;33m=\u001b[0m \u001b[1;32mNone\u001b[0m    \u001b[1;31m# 'cause __del__ is called anyway\u001b[0m\u001b[1;33m\u001b[0m\u001b[1;33m\u001b[0m\u001b[0m\n\u001b[1;32m---> 64\u001b[1;33m             \u001b[1;32mraise\u001b[0m \u001b[0mSerialException\u001b[0m\u001b[1;33m(\u001b[0m\u001b[1;34m\"could not open port {!r}: {!r}\"\u001b[0m\u001b[1;33m.\u001b[0m\u001b[0mformat\u001b[0m\u001b[1;33m(\u001b[0m\u001b[0mself\u001b[0m\u001b[1;33m.\u001b[0m\u001b[0mportstr\u001b[0m\u001b[1;33m,\u001b[0m \u001b[0mctypes\u001b[0m\u001b[1;33m.\u001b[0m\u001b[0mWinError\u001b[0m\u001b[1;33m(\u001b[0m\u001b[1;33m)\u001b[0m\u001b[1;33m)\u001b[0m\u001b[1;33m)\u001b[0m\u001b[1;33m\u001b[0m\u001b[1;33m\u001b[0m\u001b[0m\n\u001b[0m\u001b[0;32m     65\u001b[0m \u001b[1;33m\u001b[0m\u001b[0m\n\u001b[0;32m     66\u001b[0m         \u001b[1;32mtry\u001b[0m\u001b[1;33m:\u001b[0m\u001b[1;33m\u001b[0m\u001b[1;33m\u001b[0m\u001b[0m\n",
      "\u001b[1;31mSerialException\u001b[0m: could not open port '/dev/ttyUSB0': FileNotFoundError(2, 'The system cannot find the path specified.', None, 3)"
     ]
    }
   ],
   "source": [
    "print (serial.\n",
    "       \n",
    "ser = serial.Serial('/dev/ttyUSB0')  # open serial port\n",
    "print(ser.name)         # check which port was really used\n",
    "ser.write(b'hello')     # write a string\n",
    "ser.close() "
   ]
  },
  {
   "cell_type": "code",
   "execution_count": null,
   "id": "78b47935-b4f2-40da-9632-f94a609c15e5",
   "metadata": {},
   "outputs": [],
   "source": []
  }
 ],
 "metadata": {
  "kernelspec": {
   "display_name": "Python 3 (ipykernel)",
   "language": "python",
   "name": "python3"
  },
  "language_info": {
   "codemirror_mode": {
    "name": "ipython",
    "version": 3
   },
   "file_extension": ".py",
   "mimetype": "text/x-python",
   "name": "python",
   "nbconvert_exporter": "python",
   "pygments_lexer": "ipython3",
   "version": "3.8.13"
  }
 },
 "nbformat": 4,
 "nbformat_minor": 5
}
